{
 "cells": [
  {
   "cell_type": "code",
   "execution_count": null,
   "id": "9fb8b2fe-7b1c-4574-b37b-0b2003701aef",
   "metadata": {},
   "outputs": [],
   "source": [
    "print\"Hello world\""
   ]
  },
  {
   "cell_type": "code",
   "execution_count": null,
   "id": "3609393c-8659-440f-9489-c9e38ab6c80a",
   "metadata": {},
   "outputs": [],
   "source": [
    "print\"Hello world\""
   ]
  },
  {
   "cell_type": "code",
   "execution_count": null,
   "id": "9aff6b6c-ec89-4f82-b316-2af710eed4c7",
   "metadata": {},
   "outputs": [],
   "source": []
  }
 ],
 "metadata": {
  "kernelspec": {
   "display_name": "Python 3 (ipykernel)",
   "language": "python",
   "name": "python3"
  },
  "language_info": {
   "codemirror_mode": {
    "name": "ipython",
    "version": 3
   },
   "file_extension": ".py",
   "mimetype": "text/x-python",
   "name": "python",
   "nbconvert_exporter": "python",
   "pygments_lexer": "ipython3",
   "version": "3.10.12"
  }
 },
 "nbformat": 4,
 "nbformat_minor": 5
}
