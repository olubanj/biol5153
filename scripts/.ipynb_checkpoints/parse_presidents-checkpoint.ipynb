{
 "cells": [
  {
   "cell_type": "code",
   "execution_count": 54,
   "id": "16d1d06e-b39a-4ebb-9833-8c4e549def41",
   "metadata": {},
   "outputs": [],
   "source": [
    "from collections import defaultdict\n",
    "import csv\n",
    "\n",
    "# declare our input file\n",
    "input_file = 'presidents.csv'"
   ]
  },
  {
   "cell_type": "code",
   "execution_count": 62,
   "id": "72b6acd6-cd63-4fb8-adc4-3a6bcd987967",
   "metadata": {},
   "outputs": [],
   "source": [
    "# declare our dictionary; key = president number, value = president's name\n",
    "presidents = defaultdict(str)\n",
    "\n",
    "# declare our dictionary; key = president name, value = wikipedia page\n",
    "wikis = defaultdict(str)\n",
    "\n",
    "# complex data structure; key = president number, value = list [name, wikipedia page]\n",
    "complex = defaultdict(int)\n",
    "\n",
    "with open(input_file, 'r') as prez_file:\n",
    "\n",
    "    # create a csv reader object\n",
    "    reader = csv.reader(prez_file, delimiter=\",\")\n",
    "    \n",
    "    # loop over the file line by line\n",
    "    for line in reader:\n",
    "        # print(type(line))\n",
    "\n",
    "        # strip annoying random whitespace from data\n",
    "        num   = line[0].strip()\n",
    "        name  = line[1].strip()\n",
    "        party = line[5].strip()\n",
    "        wiki  = line[2].strip()\n",
    "                \n",
    "        if(name == 'President'):\n",
    "            continue\n",
    "        else:\n",
    "            # print('--' + name + '--' + party)\n",
    "            presidents[num] = name\n",
    "            wikis[name] = wiki\n",
    "            complex[num] = line\n"
   ]
  },
  {
   "cell_type": "code",
   "execution_count": 63,
   "id": "53a81a93-f388-4ba8-9145-47ac6418a368",
   "metadata": {},
   "outputs": [
    {
     "name": "stdout",
     "output_type": "stream",
     "text": [
      "George Washington\n",
      "Abraham Lincoln\n",
      "Barack Obama\n",
      "Not elected yet\n",
      "George Washington\n"
     ]
    }
   ],
   "source": [
    "# get stuff out of our dictionary\n",
    "print(presidents.get('1'))\n",
    "print(presidents.get('16'))\n",
    "print(presidents.get('44'))\n",
    "print(presidents.get('46', \"Not elected yet\"))\n",
    "print(presidents['1'])"
   ]
  },
  {
   "cell_type": "code",
   "execution_count": null,
   "id": "391b5f35-8794-43ed-bdb6-9f0f937c3e7e",
   "metadata": {},
   "outputs": [],
   "source": [
    "# loop over the dictionary\n",
    "for num in presidents.keys():\n",
    "    print(\"President\", num, \"was\", presidents[num])"
   ]
  },
  {
   "cell_type": "code",
   "execution_count": null,
   "id": "bfe330e0-515e-4f38-bbdb-4cee89497766",
   "metadata": {},
   "outputs": [],
   "source": [
    "# a little bit better way to loop over a dictionary\n",
    "for name, wiki in wikis.items():\n",
    "    print(name, wiki)"
   ]
  },
  {
   "cell_type": "code",
   "execution_count": 64,
   "id": "7ff75d5d-2a4a-4ab1-9dc5-980d1a26767b",
   "metadata": {},
   "outputs": [
    {
     "name": "stdout",
     "output_type": "stream",
     "text": [
      "1 Independent  Virginia\n",
      "2 Federalist  Massachusetts\n",
      "3 Democratic-Republican  Virginia\n",
      "4 Democratic-Republican  Virginia\n",
      "5 Democratic-Republican  Virginia\n",
      "6 Democratic-Republican/National Republican  Massachusetts\n",
      "7 Democratic  Tennessee\n",
      "8 Democratic  New York\n",
      "9 Whig Ohio\n",
      "10 Whig Virginia\n",
      "11 Democratic  Tennessee\n",
      "12 Whig Louisiana\n",
      "13 Whig New York\n",
      "14 Democratic  New Hampshire\n",
      "15 Democratic  Pennsylvania\n",
      "16 Republican/National Union Illinois\n",
      "17 Democratic/National Union Tennessee\n",
      "18 Republican  Ohio\n",
      "19 Republican  Ohio\n",
      "20 Republican  Ohio\n",
      "21 Republican  New York\n",
      "22 Democratic  New York\n",
      "23 Republican  Indiana\n",
      "24 Democratic  New York\n",
      "25 Republican  Ohio\n",
      "26 Republican  New York\n",
      "27 Republican  Ohio\n",
      "28 Democratic  New Jersey\n",
      "29 Republican  Ohio\n",
      "30 Republican  Massachusetts\n",
      "31 Republican  Iowa\n",
      "32 Democratic New York\n",
      "33 Democratic Missouri\n",
      "34 Republican  Texas\n",
      "35 Democratic Massachusetts\n",
      "36 Democratic Texas\n",
      "37 Republican California\n",
      "38 Republican Michigan\n",
      "39 Democratic  Georgia\n",
      "40 Republican  California\n",
      "41 Republican  Texas\n",
      "42 Democratic  Arkansas\n",
      "43 Republican  Texas\n",
      "44   Democratic    Illinois\n"
     ]
    }
   ],
   "source": [
    "# loop over our complex dictionary\n",
    "for num, data in complex.items():\n",
    "    print(num, data[5], data[8])"
   ]
  },
  {
   "cell_type": "code",
   "execution_count": null,
   "id": "dfcd181f-0299-4c1b-88a9-ceb6ee3f424d",
   "metadata": {},
   "outputs": [],
   "source": []
  }
 ],
 "metadata": {
  "kernelspec": {
   "display_name": "Python 3 (ipykernel)",
   "language": "python",
   "name": "python3"
  },
  "language_info": {
   "codemirror_mode": {
    "name": "ipython",
    "version": 3
   },
   "file_extension": ".py",
   "mimetype": "text/x-python",
   "name": "python",
   "nbconvert_exporter": "python",
   "pygments_lexer": "ipython3",
   "version": "3.11.5"
  }
 },
 "nbformat": 4,
 "nbformat_minor": 5
}
