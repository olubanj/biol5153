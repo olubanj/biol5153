{
 "cells": [
  {
   "cell_type": "code",
   "execution_count": null,
   "id": "808ade1a-5afa-4a08-86a8-b9739024d74d",
   "metadata": {},
   "outputs": [],
   "source": [
    "import re\n",
    "import csv\n",
    "\n",
    "# Define the input and output files\n",
    "input_file = \n",
    "output_file = 'salmonella_info.csv'\n",
    "\n",
    "# Define lists to store gene, locus_tag, and protein information\n",
    "gene_info = []\n",
    "\n",
    "# Function to extract information from the header line\n",
    "def extract_info(header):\n",
    "    gene_match = re.search(r'\\[gene=([^\\]]+)\\]', header)\n",
    "    locus_tag_match = re.search(r'\\[locus_tag=([^\\]]+)\\]', header)\n",
    "    protein_match = re.search(r'\\[protein=([^\\]]+)\\]', header)\n",
    "    \n",
    "    gene = gene_match.group(1).strip() if gene_match else None\n",
    "    locus_tag = locus_tag_match.group(1).strip() if locus_tag_match else None\n",
    "    protein = protein_match.group(1).strip() if protein_match else None\n",
    "    \n",
    "    return gene, locus_tag, protein\n",
    "\n",
    "# Open the FASTA file for reading\n",
    "with open(input_file, 'r') as file:\n",
    "    # Iterate over each line in the file\n",
    "    for line in file:\n",
    "        # Check if the line is a header line\n",
    "        if line.startswith('>'):\n",
    "            # Extract gene, locus_tag, and protein information\n",
    "            gene, locus_tag, protein = extract_info(line)\n",
    "            if locus_tag:  # If locus tag information is present\n",
    "                # Append the extracted information to the gene_info list\n",
    "                gene_info.append([gene, locus_tag, protein])\n",
    "\n",
    "# Write the extracted information to a CSV file\n",
    "with open(output_file, 'w', newline='') as csv_file:\n",
    "    writer = csv.writer(csv_file)\n",
    "    writer.writerow(['Gene', 'Locus Tag', 'Protein'])\n",
    "    for gene, locus_tag, protein in gene_info:\n",
    "        writer.writerow([gene if gene else '', locus_tag, protein])\n",
    "\n",
    "print(f\"CSV file '{output_file}' has been created successfully.\")\n"
   ]
  }
 ],
 "metadata": {
  "kernelspec": {
   "display_name": "Python 3 (ipykernel)",
   "language": "python",
   "name": "python3"
  },
  "language_info": {
   "codemirror_mode": {
    "name": "ipython",
    "version": 3
   },
   "file_extension": ".py",
   "mimetype": "text/x-python",
   "name": "python",
   "nbconvert_exporter": "python",
   "pygments_lexer": "ipython3",
   "version": "3.10.12"
  }
 },
 "nbformat": 4,
 "nbformat_minor": 5
}
